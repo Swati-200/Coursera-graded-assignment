{
 "cells": [
  {
   "cell_type": "markdown",
   "id": "f5257678-e171-4264-9598-3262e09cb455",
   "metadata": {},
   "source": [
    "##My Jupyter Notebook on IBM Watson Studio"
   ]
  },
  {
   "cell_type": "markdown",
   "id": "e85f0ed4-1e34-435b-83e7-e629846799c0",
   "metadata": {},
   "source": [
    "##Swati Mukherjee"
   ]
  },
  {
   "cell_type": "markdown",
   "id": "18e5e9a2-17db-4690-8ed5-faf39da4569a",
   "metadata": {},
   "source": [
    "##Business Analyst #I am interested in data science because it has a huge potential to make a business profitable by using different prediction models"
   ]
  },
  {
   "cell_type": "markdown",
   "id": "fd956ce5-83c6-4dd1-8bf5-004a3ea7af24",
   "metadata": {},
   "source": [
    "##My code is a simple numeric calculation"
   ]
  },
  {
   "cell_type": "code",
   "execution_count": 5,
   "id": "686586a9-f498-42e2-bc5d-ae26773b4d9a",
   "metadata": {},
   "outputs": [
    {
     "data": {
      "text/plain": [
       "2"
      ]
     },
     "execution_count": 5,
     "metadata": {},
     "output_type": "execute_result"
    }
   ],
   "source": [
    "1+1"
   ]
  },
  {
   "cell_type": "markdown",
   "id": "65ff6c2b-b3cd-4e45-a1e8-fe0cefd9d06b",
   "metadata": {},
   "source": [
    "###Learning Data science\n",
    "\n",
    "- Carefully watch the coursera videos\n",
    "- Read the supplementary material\n",
    "- Practise\n",
    "- Try to do self learning daily"
   ]
  },
  {
   "cell_type": "markdown",
   "id": "aca99e3e-df6a-4bfd-ab03-840d37bb1f67",
   "metadata": {},
   "source": [
    "#Coursera learning model\n",
    "\n",
    "1. Videos\n",
    "2. Supporting material\n",
    "3. Practise quiz and graded quiz\n",
    "4. Assignment"
   ]
  },
  {
   "cell_type": "markdown",
   "id": "57b0a23a-c973-48e8-ab12-6a92e0f36efb",
   "metadata": {},
   "source": [
    "#External link\n",
    "\n",
    "(link to coursera)(https://www.coursera.org/)"
   ]
  }
 ],
 "metadata": {
  "kernelspec": {
   "display_name": "Python",
   "language": "python",
   "name": "conda-env-python-py"
  },
  "language_info": {
   "codemirror_mode": {
    "name": "ipython",
    "version": 3
   },
   "file_extension": ".py",
   "mimetype": "text/x-python",
   "name": "python",
   "nbconvert_exporter": "python",
   "pygments_lexer": "ipython3",
   "version": "3.7.12"
  }
 },
 "nbformat": 4,
 "nbformat_minor": 5
}
